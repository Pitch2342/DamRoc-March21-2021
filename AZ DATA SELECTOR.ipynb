{
 "cells": [
  {
   "cell_type": "markdown",
   "metadata": {},
   "source": [
    "# AZ DATA SELECTION"
   ]
  },
  {
   "cell_type": "markdown",
   "metadata": {},
   "source": [
    "# Goal\n",
    "Take rows from 1:1 from MAL and BEN\n",
    "\n",
    "SVM all features and find coeffs\n",
    "\n",
    "take all +ve and -Ve coeffs\n",
    "\n",
    "Sum by col\n",
    "\n",
    "    take col if it appears a certain number of times\n",
    "\n",
    "Find num ben_cols and mal_cols.\n",
    "    \n",
    "    Balance them to an extent => based on lowest appearances"
   ]
  },
  {
   "cell_type": "markdown",
   "metadata": {},
   "source": [
    "# Load Data and conv as NP Arrays"
   ]
  },
  {
   "cell_type": "code",
   "execution_count": 1,
   "metadata": {},
   "outputs": [],
   "source": [
    "import json"
   ]
  },
  {
   "cell_type": "code",
   "execution_count": 2,
   "metadata": {},
   "outputs": [],
   "source": [
    "with open(\"./AZ_DATA/AZ_DATA/apg-X.json\", 'rt') as f:\n",
    "    X_org = json.load(f)\n",
    "with open(\"./AZ_DATA/AZ_DATA/apg-y.json\", 'rt') as f:\n",
    "    y_org = json.load(f)\n",
    "with open(\"./AZ_DATA/AZ_DATA/apg-meta.json\", 'rt') as f:\n",
    "    meta_org = json.load(f)"
   ]
  },
  {
   "cell_type": "code",
   "execution_count": 3,
   "metadata": {},
   "outputs": [],
   "source": [
    "from sklearn.feature_extraction import DictVectorizer"
   ]
  },
  {
   "cell_type": "code",
   "execution_count": 4,
   "metadata": {},
   "outputs": [],
   "source": [
    "vec = DictVectorizer()\n",
    "X_full = vec.fit_transform(X_org)\n",
    "y_full = y_org"
   ]
  },
  {
   "cell_type": "code",
   "execution_count": 5,
   "metadata": {},
   "outputs": [],
   "source": [
    "import numpy as np"
   ]
  },
  {
   "cell_type": "code",
   "execution_count": 6,
   "metadata": {},
   "outputs": [],
   "source": [
    "y_full = np.asarray(y_full).reshape(-1,1)"
   ]
  },
  {
   "cell_type": "code",
   "execution_count": 7,
   "metadata": {},
   "outputs": [
    {
     "data": {
      "text/plain": [
       "(array([0, 1]), array([135859,  15778], dtype=int64))"
      ]
     },
     "execution_count": 7,
     "metadata": {},
     "output_type": "execute_result"
    }
   ],
   "source": [
    "np.unique(y_full,return_counts=True)"
   ]
  },
  {
   "cell_type": "code",
   "execution_count": 8,
   "metadata": {},
   "outputs": [
    {
     "data": {
      "text/plain": [
       "(151637, 1537062)"
      ]
     },
     "execution_count": 8,
     "metadata": {},
     "output_type": "execute_result"
    }
   ],
   "source": [
    "X_full.shape"
   ]
  },
  {
   "cell_type": "code",
   "execution_count": 9,
   "metadata": {},
   "outputs": [],
   "source": [
    "meta_org = np.asarray(meta_org).reshape(-1,1)"
   ]
  },
  {
   "cell_type": "markdown",
   "metadata": {},
   "source": [
    "# Select Data"
   ]
  },
  {
   "cell_type": "code",
   "execution_count": 10,
   "metadata": {},
   "outputs": [
    {
     "name": "stdout",
     "output_type": "stream",
     "text": [
      "135859 15778\n"
     ]
    }
   ],
   "source": [
    "ben = []\n",
    "mal = []\n",
    "for i in range(len(y_full)):\n",
    "    if y_full[i]==0:\n",
    "        ben.append(i)\n",
    "    else:\n",
    "        mal.append(i)\n",
    "print(len(ben),len(mal))"
   ]
  },
  {
   "cell_type": "code",
   "execution_count": 11,
   "metadata": {},
   "outputs": [
    {
     "name": "stdout",
     "output_type": "stream",
     "text": [
      "15778\n"
     ]
    }
   ],
   "source": [
    "import random\n",
    "ben_list = []\n",
    "ben_list = random.sample(ben,len(mal))\n",
    "print(len(ben_list))"
   ]
  },
  {
   "cell_type": "code",
   "execution_count": 12,
   "metadata": {},
   "outputs": [
    {
     "name": "stdout",
     "output_type": "stream",
     "text": [
      "(31556, 1537062) (31556, 1) (31556, 1)\n",
      "(array([0, 1]), array([15778, 15778], dtype=int64))\n"
     ]
    }
   ],
   "source": [
    "chosen = mal + ben_list\n",
    "chosen.sort()\n",
    "X = X_full[chosen]\n",
    "y = y_full[chosen]\n",
    "meta = meta_org[chosen]\n",
    "print(X.shape,y.shape,meta.shape)\n",
    "print(np.unique(y,return_counts=True))"
   ]
  },
  {
   "cell_type": "markdown",
   "metadata": {},
   "source": [
    "# SVM"
   ]
  },
  {
   "cell_type": "code",
   "execution_count": 13,
   "metadata": {},
   "outputs": [
    {
     "data": {
      "text/plain": [
       "(31556, 1)"
      ]
     },
     "execution_count": 13,
     "metadata": {},
     "output_type": "execute_result"
    }
   ],
   "source": [
    "y.shape"
   ]
  },
  {
   "cell_type": "code",
   "execution_count": 14,
   "metadata": {},
   "outputs": [],
   "source": [
    "from sklearn.svm import LinearSVC"
   ]
  },
  {
   "cell_type": "code",
   "execution_count": 15,
   "metadata": {},
   "outputs": [
    {
     "name": "stderr",
     "output_type": "stream",
     "text": [
      "C:\\Users\\Pitch\\.conda\\envs\\tf1-gpu\\lib\\site-packages\\sklearn\\utils\\validation.py:72: DataConversionWarning: A column-vector y was passed when a 1d array was expected. Please change the shape of y to (n_samples, ), for example using ravel().\n",
      "  return f(**kwargs)\n",
      "C:\\Users\\Pitch\\.conda\\envs\\tf1-gpu\\lib\\site-packages\\sklearn\\svm\\_base.py:977: ConvergenceWarning: Liblinear failed to converge, increase the number of iterations.\n",
      "  \"the number of iterations.\", ConvergenceWarning)\n"
     ]
    },
    {
     "data": {
      "text/plain": [
       "LinearSVC(C=2)"
      ]
     },
     "execution_count": 15,
     "metadata": {},
     "output_type": "execute_result"
    }
   ],
   "source": [
    "selector = LinearSVC(C=2)\n",
    "selector.fit(X, y)"
   ]
  },
  {
   "cell_type": "code",
   "execution_count": 16,
   "metadata": {},
   "outputs": [
    {
     "data": {
      "text/plain": [
       "31556"
      ]
     },
     "execution_count": 16,
     "metadata": {},
     "output_type": "execute_result"
    }
   ],
   "source": [
    "len(y)"
   ]
  },
  {
   "cell_type": "code",
   "execution_count": 17,
   "metadata": {},
   "outputs": [
    {
     "data": {
      "text/plain": [
       "[<matplotlib.lines.Line2D at 0x1f2f94b7388>]"
      ]
     },
     "execution_count": 17,
     "metadata": {},
     "output_type": "execute_result"
    },
    {
     "data": {
      "image/png": "[encoded data removed]",
      "text/plain": [
       "<Figure size 432x288 with 1 Axes>"
      ]
     },
     "metadata": {
      "needs_background": "light"
     },
     "output_type": "display_data"
    }
   ],
   "source": [
    "import matplotlib.pyplot as plt\n",
    "plt.xlabel(\"Features\")\n",
    "plt.ylabel(\"Coefficient in SVM\")\n",
    "plt.plot(selector.coef_[0])"
   ]
  },
  {
   "cell_type": "code",
   "execution_count": 18,
   "metadata": {},
   "outputs": [
    {
     "data": {
      "text/plain": [
       "[<matplotlib.lines.Line2D at 0x1f2faf2f408>]"
      ]
     },
     "execution_count": 18,
     "metadata": {},
     "output_type": "execute_result"
    },
    {
     "data": {
      "image/png": "[encoded data removed]",
      "text/plain": [
       "<Figure size 432x288 with 1 Axes>"
      ]
     },
     "metadata": {
      "needs_background": "light"
     },
     "output_type": "display_data"
    }
   ],
   "source": [
    "import matplotlib.pyplot as plt\n",
    "plt.xlabel(\"Features\")\n",
    "plt.ylabel(\"Coefficient in SVM\")\n",
    "plt.plot(np.argsort(selector.coef_[0]))"
   ]
  },
  {
   "cell_type": "code",
   "execution_count": 19,
   "metadata": {},
   "outputs": [
    {
     "name": "stdout",
     "output_type": "stream",
     "text": [
      "82104 75920 1379038\n",
      "158024\n"
     ]
    }
   ],
   "source": [
    "cols1 = np.argsort(selector.coef_[0])[::-1]\n",
    "p = n = z = 0\n",
    "cols2 = []\n",
    "for i in cols1:\n",
    "    if selector.coef_[0][i] < 0:\n",
    "        n+=1\n",
    "        cols2.append(i)\n",
    "    elif selector.coef_[0][i] > 0:\n",
    "        p+=1\n",
    "        cols2.append(i)\n",
    "    else:\n",
    "        z+=1\n",
    "print(p,n,z)\n",
    "print(len(cols2))"
   ]
  },
  {
   "cell_type": "code",
   "execution_count": 20,
   "metadata": {},
   "outputs": [
    {
     "data": {
      "text/plain": [
       "[<matplotlib.lines.Line2D at 0x1f305991708>]"
      ]
     },
     "execution_count": 20,
     "metadata": {},
     "output_type": "execute_result"
    },
    {
     "data": {
      "image/png": "[encoded data removed]",
      "text/plain": [
       "<Figure size 432x288 with 1 Axes>"
      ]
     },
     "metadata": {
      "needs_background": "light"
     },
     "output_type": "display_data"
    }
   ],
   "source": [
    "import matplotlib.pyplot as plt\n",
    "plt.xlabel(\"Features\")\n",
    "plt.ylabel(\"Coefficient in SVM\")\n",
    "plt.plot(selector.coef_[0][cols2])"
   ]
  },
  {
   "cell_type": "markdown",
   "metadata": {},
   "source": [
    "### removing all cols from xtrain and xtest if they are 0 contrib"
   ]
  },
  {
   "cell_type": "code",
   "execution_count": 21,
   "metadata": {},
   "outputs": [
    {
     "name": "stdout",
     "output_type": "stream",
     "text": [
      "(31556, 158024) (31556, 1) 158024\n"
     ]
    },
    {
     "data": {
      "text/plain": [
       "array([ 1.99930011,  1.75367605,  1.75215874, ..., -1.56137623,\n",
       "       -1.6297654 , -1.8504997 ])"
      ]
     },
     "execution_count": 21,
     "metadata": {},
     "output_type": "execute_result"
    }
   ],
   "source": [
    "X2 = X[:,cols2]\n",
    "y2 = y\n",
    "coeff2 = selector.coef_[0][cols2]\n",
    "print(X2.shape,y2.shape,len(coeff2))\n",
    "coeff2"
   ]
  },
  {
   "cell_type": "markdown",
   "metadata": {},
   "source": [
    "### Trim by Frequency. Setting at 0.0003 % of dataset"
   ]
  },
  {
   "cell_type": "code",
   "execution_count": 31,
   "metadata": {},
   "outputs": [
    {
     "name": "stdout",
     "output_type": "stream",
     "text": [
      "(158024, 1)\n",
      "31556\n",
      "9\n",
      "9883\n"
     ]
    }
   ],
   "source": [
    "Percent = 0.0003\n",
    "\n",
    "FC = X[:,cols2].sum(axis=0).reshape(-1,1)\n",
    "print(FC.shape)\n",
    "C = 0\n",
    "LOF = []\n",
    "for i in range(len(FC)):\n",
    "    if FC[i][0] > (int(Percent*y2.shape[0])): #guess\n",
    "        C+=1\n",
    "        LOF.append(i)\n",
    "print(y2.shape[0])\n",
    "print(int(Percent*y2.shape[0]))\n",
    "print(len(LOF))"
   ]
  },
  {
   "cell_type": "code",
   "execution_count": 32,
   "metadata": {},
   "outputs": [
    {
     "name": "stdout",
     "output_type": "stream",
     "text": [
      "(31556, 9883) (31556, 1) 9883\n"
     ]
    },
    {
     "data": {
      "text/plain": [
       "array([ 1.68149732,  1.14953946,  1.10703168, ..., -1.15915335,\n",
       "       -1.20155706, -1.8504997 ])"
      ]
     },
     "execution_count": 32,
     "metadata": {},
     "output_type": "execute_result"
    }
   ],
   "source": [
    "X3 = X2[:,LOF]\n",
    "y3 = y2\n",
    "coeff3 = coeff2[LOF]\n",
    "print(X3.shape,y3.shape,len(coeff3))\n",
    "coeff3"
   ]
  },
  {
   "cell_type": "markdown",
   "metadata": {},
   "source": [
    "Save these"
   ]
  },
  {
   "cell_type": "markdown",
   "metadata": {},
   "source": [
    "HAD TO GO FOR SCIPY SPARSE ARRAY FOR CONVERTING TO ARRAY FOR SAVING X TRAIN N TEST"
   ]
  },
  {
   "cell_type": "code",
   "execution_count": 33,
   "metadata": {},
   "outputs": [],
   "source": [
    "import scipy"
   ]
  },
  {
   "cell_type": "code",
   "execution_count": 34,
   "metadata": {},
   "outputs": [],
   "source": [
    "X_S = scipy.sparse.csr_matrix.toarray(X3)"
   ]
  },
  {
   "cell_type": "code",
   "execution_count": 35,
   "metadata": {},
   "outputs": [],
   "source": [
    "np.save('./DATAVIZ/AZ_X.npy',X_S)\n",
    "np.save('./DATAVIZ/AZ_Y.npy',y3)\n",
    "np.save('./DATAVIZ/AZ_META.npy',meta)\n",
    "np.save('./DATAVIZ/AZ_COEFF.npy',coeff3)"
   ]
  },
  {
   "cell_type": "code",
   "execution_count": 36,
   "metadata": {},
   "outputs": [
    {
     "name": "stdout",
     "output_type": "stream",
     "text": [
      "DONE\n"
     ]
    }
   ],
   "source": [
    "print(\"DONE\")"
   ]
  },
  {
   "cell_type": "code",
   "execution_count": 37,
   "metadata": {},
   "outputs": [
    {
     "data": {
      "text/plain": [
       "(31556, 1)"
      ]
     },
     "execution_count": 37,
     "metadata": {},
     "output_type": "execute_result"
    }
   ],
   "source": [
    "meta.shape"
   ]
  },
  {
   "cell_type": "code",
   "execution_count": null,
   "metadata": {},
   "outputs": [],
   "source": []
  }
 ],
 "metadata": {
  "kernelspec": {
   "display_name": "Python 3",
   "language": "python",
   "name": "python3"
  },
  "language_info": {
   "codemirror_mode": {
    "name": "ipython",
    "version": 3
   },
   "file_extension": ".py",
   "mimetype": "text/x-python",
   "name": "python",
   "nbconvert_exporter": "python",
   "pygments_lexer": "ipython3",
   "version": "3.7.9"
  }
 },
 "nbformat": 4,
 "nbformat_minor": 4
}
